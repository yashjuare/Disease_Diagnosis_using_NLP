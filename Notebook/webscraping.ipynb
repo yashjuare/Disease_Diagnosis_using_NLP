{
 "cells": [
  {
   "cell_type": "code",
   "execution_count": 1,
   "id": "9a4fcbf4",
   "metadata": {},
   "outputs": [],
   "source": [
    "import requests\n",
    "from bs4 import BeautifulSoup\n",
    "import html5lib\n",
    "import pandas as pd"
   ]
  },
  {
   "cell_type": "code",
   "execution_count": 2,
   "id": "32683243",
   "metadata": {},
   "outputs": [],
   "source": [
    "URL = 'https://en.wikipedia.org/wiki/List_of_cancer_types#Soft_Tissue_Sarcoma'\n",
    "r = requests.get(URL)\n",
    "soup = BeautifulSoup(r.content, 'html5lib')\n"
   ]
  },
  {
   "cell_type": "code",
   "execution_count": 17,
   "id": "31081fb8",
   "metadata": {},
   "outputs": [],
   "source": [
    "links1= []\n",
    "title=[]\n",
    "for div in soup.find_all('div', class_ =\"mw-content-ltr mw-parser-output\"):\n",
    "    for bullet in div.find_all('li'):\n",
    "        for link in bullet.find_all('a', href=True):\n",
    "                        links1.append(link['href'])\n",
    "                        title.append(link.text)"
   ]
  },
  {
   "cell_type": "code",
   "execution_count": 19,
   "id": "587f4005",
   "metadata": {},
   "outputs": [
    {
     "name": "stdout",
     "output_type": "stream",
     "text": [
      "415\n"
     ]
    }
   ],
   "source": [
    "print(len(links1))"
   ]
  },
  {
   "cell_type": "code",
   "execution_count": 54,
   "id": "11b61381",
   "metadata": {},
   "outputs": [
    {
     "name": "stdout",
     "output_type": "stream",
     "text": [
      "['/wiki/Carcinoma', '/wiki/Epithelium', '/wiki/Breast_cancer', '/wiki/Prostate_cancer', '/wiki/Lung_cancer', '/wiki/Pancreatic_cancer', '/wiki/Colorectal_cancer', '/wiki/Sarcoma', '/wiki/Connective_tissue', '/wiki/Bone', '/wiki/Cartilage', '/wiki/Fat', '/wiki/Nerve', '/wiki/Mesenchyme', '/wiki/Lymphoma', '/wiki/Leukemia', '/wiki/Immune_system', '/wiki/Blood', '/wiki/Childhood_cancer', '#cite_note-2', '/wiki/Germ_cell_tumor', '/wiki/Pluripotent', '/wiki/Testicular_cancer', '/wiki/Ovarian_cancer', '/wiki/Seminoma', '/wiki/Dysgerminoma', '/wiki/Blastoma', '/wiki/Neuroblastoma', '/wiki/Retinoblastoma', '/wiki/Nephroblastoma', '/wiki/Hepatoblastoma', '/wiki/Medulloblastoma', '/wiki/Adamantinoma', '/wiki/Chondrosarcoma', '/wiki/Chordoma', '/wiki/Ewing%27s_sarcoma', '/wiki/Fibrocartilaginous_mesenchymoma_of_bone', '/wiki/Leiomyosarcoma', '/wiki/Malignant_fibrous_histiocytoma', '/wiki/Myxosarcoma', '/wiki/Osteosarcoma', '/wiki/Rhabdomyosarcoma', '/wiki/Astrocytoma', '/wiki/Brainstem_glioma', '/wiki/Choroid_plexus_carcinoma', '/w/index.php?title=Cerebellar_astrocytoma&action=edit&redlink=1', '/w/index.php?title=Cerebral_astrocytoma&action=edit&redlink=1', '/wiki/Craniopharyngioma', '/wiki/Ependymoma', '/wiki/Ganglioneuroma', '/wiki/Glioblastoma', '/wiki/Glioma', '/wiki/Hemangioblastoma', '/wiki/Medulloblastoma', '/wiki/Meningioma', '/wiki/Neuroblastoma', '/wiki/Neurofibroma', '/wiki/Oligodendroglioma', '/wiki/Paraganglioma', '/wiki/Pinealoma', '/wiki/Pineocytoma', '/wiki/Pineoblastoma', '/wiki/Pituitary_adenoma', '/wiki/Pilocytic_astrocytoma', '/wiki/Primary_central_nervous_system_lymphoma', '/wiki/Primitive_neuroectodermal_tumor', '/wiki/Schwannoma', '/w/index.php?title=Hypothalamic_glioma&action=edit&redlink=1', '/wiki/Breast_cancer', '/wiki/Ductal_carcinoma_in_situ', '/wiki/Breast_cancer', '/wiki/Invasive_carcinoma_of_no_special_type', '/wiki/Invasive_lobular_carcinoma', '/wiki/Tubular_carcinoma', '/wiki/Invasive_cribriform_carcinoma_of_the_breast', '/wiki/Medullary_carcinoma', '/wiki/Male_breast_cancer', '/wiki/Phyllodes_tumor', '/wiki/Mammary_secretory_carcinoma', '/wiki/Mucinous_carcinoma_of_the_breast', '/wiki/Papillary_carcinomas_of_the_breast', '/wiki/Adrenocortical_adenoma', '/wiki/Adrenocortical_carcinoma', '/wiki/Carcinoid', '/wiki/Gastrinoma', '/wiki/Glucagonoma', '/wiki/Insulinoma', '/wiki/Islet_cell_carcinoma', '/wiki/Merkel_cell_carcinoma', '/wiki/Multiple_endocrine_neoplasia_syndrome', '/wiki/Pancreatic_cancer', '/wiki/Parathyroid_cancer', '/wiki/Pheochromocytoma', '/wiki/Somatostatinoma', '/wiki/Thyroid_cancer', '/wiki/VIPoma', '/w/index.php?title=Conjunctival_melanoma&action=edit&redlink=1', '/wiki/Optic_nerve_glioma', '/wiki/Orbital_lymphoma', '/wiki/Retinoblastoma', '/wiki/Uveal_melanoma', '/wiki/Anal_cancer', '/wiki/Appendix_cancer', '/wiki/Cholangiocarcinoma', '/wiki/Gastrointestinal_carcinoid_tumor', '/wiki/Colorectal_cancer', '/wiki/Duodenal_cancer', '/w/index.php?title=Extrahepatic&action=edit&redlink=1', '/wiki/Bile_duct_cancer', '/wiki/Gallbladder_cancer', '/wiki/Gastric_cancer', '/wiki/Gastrointestinal_carcinoid_tumor', '/wiki/Gastrointestinal_stromal_tumor', '/wiki/Hepatoblastoma', '/wiki/Hepatocellular_carcinoma', '/wiki/Pancreatic_cancer', '/wiki/Islet_cell', '/wiki/Rectal_cancer', '/wiki/Small_intestine_cancer', '/wiki/Bladder_cancer', '/wiki/Cervical_cancer', '/wiki/Choriocarcinoma', '/wiki/Embryonal_carcinoma', '/wiki/Endometrial_cancer', '/wiki/Endodermal_sinus_tumor', '/w/index.php?title=Extragonadal&action=edit&redlink=1', '/wiki/Germ_cell_tumor', '/wiki/Fallopian_tube_cancer', '/wiki/Gestational_trophoblastic_tumor', '/wiki/Kidney_cancer', '/wiki/Leydig_cell_tumour', '/wiki/Ovarian_cancer', '/wiki/Ovarian_epithelial_cancer', '/wiki/Surface_epithelial-stromal_tumor', '/wiki/Ovarian_germ_cell_tumor', '/wiki/Penile_cancer', '/wiki/Prostate_cancer', '/wiki/Renal_cell_carcinoma', '/w/index.php?title=Renal_pelvis_and_ureter,_transitional_cell_cancer&action=edit&redlink=1', '/wiki/Seminoma', '/wiki/Serous_tumour', '/wiki/Sertoli_cell_tumour', '/wiki/Teratoma', '/wiki/Testicular_cancer', '/wiki/Transitional_cell_cancer', '/wiki/Urothelial_carcinoma', '/w/index.php?title=Ureter_and_renal_pelvis&action=edit&redlink=1', '/wiki/Urethral_cancer', '/wiki/Uterine_sarcoma', '/wiki/Vaginal_cancer', '/wiki/Vulvar_cancer', '/wiki/Wilms_tumor', '/wiki/Esophageal_cancer', '/wiki/Head_and_neck_cancer', '/wiki/Nasopharyngeal_carcinoma', '/wiki/Oral_cancer', '/wiki/Oropharyngeal_cancer', '/wiki/Paranasal_sinus_and_nasal_cavity_cancer', '/wiki/Pharyngeal_cancer', '/wiki/Salivary_gland_cancer', '/wiki/Hypopharyngeal_cancer', '/wiki/Acute_biphenotypic_leukemia', '/wiki/Acute_eosinophilic_leukemia', '/wiki/Acute_lymphoblastic_leukemia', '/wiki/Acute_myeloid_leukemia', '/wiki/Acute_myeloid_dendritic_cell_leukemia', '/wiki/AIDS-related_lymphoma', '/wiki/Anaplastic_large_cell_lymphoma', '/wiki/Angioimmunoblastic_T-cell_lymphoma', '/wiki/B-cell_prolymphocytic_leukemia', '/wiki/Burkitt%27s_lymphoma', '/wiki/Chronic_lymphocytic_leukemia', '/wiki/Chronic_myelogenous_leukemia', '/wiki/Cutaneous_T-cell_lymphoma', '/wiki/Diffuse_large_B-cell_lymphoma', '/wiki/Follicular_lymphoma', '/wiki/Hairy_cell_leukemia', '/wiki/Hepatosplenic_T-cell_lymphoma', '/wiki/Hodgkin%27s_lymphoma', '/wiki/Intravascular_large_B-cell_lymphoma', '/wiki/Large_granular_lymphocytic_leukemia', '/wiki/Lymphoplasmacytic_lymphoma', '/wiki/Lymphomatoid_granulomatosis', '/wiki/Mantle_cell_lymphoma', '/wiki/Marginal_zone_B-cell_lymphoma', '/wiki/Mast_cell_leukemia', '/wiki/Mediastinal_large_B_cell_lymphoma', '/wiki/Myeloma', '/wiki/Myelodysplastic_syndromes', '/wiki/Mucosa-associated_lymphoid_tissue_lymphoma', '/wiki/Mycosis_fungoides', '/wiki/Nodal_marginal_zone_B_cell_lymphoma', '/wiki/Non-Hodgkin_lymphoma', '/wiki/Precursor_B_lymphoblastic_leukemia', '/wiki/Primary_central_nervous_system_lymphoma', '/wiki/Primary_cutaneous_follicular_lymphoma', '/wiki/Primary_cutaneous_immunocytoma', '/wiki/Primary_effusion_lymphoma', '/wiki/Plasmablastic_lymphoma', '/wiki/S%C3%A9zary%27s_disease', '/wiki/Splenic_marginal_zone_lymphoma', '/wiki/T-cell_prolymphocytic_leukemia', '/wiki/Basal_cell_carcinoma', '/wiki/Squamous_cell_carcinoma', '/wiki/Squamous_cell_skin_cancer', '/wiki/Sebaceous_carcinoma', '/wiki/Melanoma', '/wiki/Merkel_cell_carcinoma', '/wiki/Keratoacanthoma', '/wiki/Dermatofibrosarcoma_protuberans', '/wiki/Mycosis_fungoides', '/wiki/Angiosarcoma', '/wiki/Fibrosarcoma', '/wiki/Liposarcoma', '/wiki/Malignant_peripheral_nerve_sheath_tumor', '/wiki/Synovial_sarcoma', '/wiki/Adenocarcinoma_of_the_lung', '/wiki/Basaloid_squamous_cell_lung_carcinoma', '/wiki/Bronchial_adenoma', '/wiki/Carcinoid', '/wiki/Giant-cell_carcinoma_of_the_lung', '/wiki/Large-cell_lung_carcinoma', '/wiki/Large-cell_lung_carcinoma_with_rhabdoid_phenotype', '/wiki/Laryngeal_cancer', '/wiki/Mesothelioma', '/wiki/Lung_cancer#Non-small-cell_lung_cancer', '/wiki/Non-small-cell_lung_carcinoma', '/wiki/Pleuropulmonary_blastoma', '/wiki/Sarcomatoid_carcinoma_of_the_lung', '/wiki/Small_cell_lung_cancer', '/wiki/Squamous-cell_carcinoma_of_the_lung', '/wiki/Thymic_carcinoma', '/wiki/AIDS#Major_HIV-associated_malignancies', '/wiki/Kaposi_sarcoma', '/wiki/Epithelioid_hemangioendothelioma', '/wiki/Desmoplastic_small_round_cell_tumor', '/wiki/Lists_of_diseases', '/wiki/List_of_oncology-related_terms', 'https://www.cancer.gov/types', '/wiki/National_Cancer_Institute', '/wiki/International_Statistical_Classification_of_Diseases_and_Related_Health_Problems', '/wiki/ICD-10', 'https://icd.who.int/browse10/2019/en#/C00', 'https://icd.who.int/browse10/2019/en#/C97', '/wiki/International_Statistical_Classification_of_Diseases_and_Related_Health_Problems', '/wiki/List_of_ICD-9_codes', 'http://www.icd9data.com/getICD9Code.ashx?icd9=140', 'http://www.icd9data.com/getICD9Code.ashx?icd9=239', '/wiki/Medical_Subject_Headings', 'https://meshb.nlm.nih.gov/record/ui?ui=D009369', '/wiki/Diseases_Database', 'http://www.diseasesdatabase.com/ddb28843.htm', '/wiki/MedlinePlus', 'https://www.nlm.nih.gov/medlineplus/ency/article/001289.htm', '/wiki/Template:Medicine', '/wiki/Template_talk:Medicine', '/wiki/Special:EditPage/Template:Medicine', '/wiki/Cardiac_surgery', '/wiki/Cardiothoracic_surgery', '/wiki/Endocrine_surgery', '/wiki/Eye_surgery', '/wiki/General_surgery', '/wiki/Colorectal_surgery', '/wiki/Digestive_system_surgery', '/wiki/Colorectal_surgery', '/wiki/Digestive_system_surgery', '/wiki/Neurosurgery', '/wiki/Oral_and_maxillofacial_surgery', '/wiki/Orthopedic_surgery', '/wiki/Hand_surgery', '/wiki/Otorhinolaryngology', '/wiki/Pediatric_surgery', '/wiki/Plastic_surgery', '/wiki/Reproductive_surgery', '/wiki/Surgical_oncology', '/wiki/Organ_transplantation', '/wiki/Trauma_surgery', '/wiki/Urology', '/wiki/Andrology', '/wiki/Andrology', '/wiki/Vascular_surgery', '/wiki/Colorectal_surgery', '/wiki/Digestive_system_surgery', '/wiki/Andrology', '/wiki/Allergy', '/wiki/Immunology', '/wiki/Angiology', '/wiki/Cardiology', '/wiki/Endocrinology', '/wiki/Gastroenterology', '/wiki/Hepatology', '/wiki/Hepatology', '/wiki/Geriatrics', '/wiki/Hematology', '/wiki/Hospital_medicine', '/wiki/Infectious_diseases_(medical_specialty)', '/wiki/Nephrology', '/wiki/Oncology', '/wiki/Pulmonology', '/wiki/Rheumatology', '/wiki/Hepatology', '/wiki/Gynaecology', '/wiki/Gynecologic_oncology', '/wiki/Maternal%E2%80%93fetal_medicine', '/wiki/Obstetrics', '/wiki/Reproductive_endocrinology_and_infertility', '/wiki/Urogynecology', '/wiki/Radiology', '/wiki/Interventional_radiology', '/wiki/Neuroradiology', '/wiki/Nuclear_medicine', '/wiki/Interventional_radiology', '/wiki/Neuroradiology', '/wiki/Nuclear_medicine', '/wiki/Pathology', '/wiki/Anatomical_pathology', '/wiki/Clinical_pathology', '/wiki/Clinical_chemistry', '/wiki/Cytopathology', '/wiki/Medical_microbiology', '/wiki/Transfusion_medicine', '/wiki/Anatomical_pathology', '/wiki/Clinical_pathology', '/wiki/Clinical_chemistry', '/wiki/Cytopathology', '/wiki/Medical_microbiology', '/wiki/Transfusion_medicine', '/wiki/Interventional_radiology', '/wiki/Neuroradiology', '/wiki/Nuclear_medicine', '/wiki/Anatomical_pathology', '/wiki/Clinical_pathology', '/wiki/Clinical_chemistry', '/wiki/Cytopathology', '/wiki/Medical_microbiology', '/wiki/Transfusion_medicine', '/wiki/Addiction_medicine', '/wiki/Adolescent_medicine', '/wiki/Anesthesiology', '/wiki/Obstetric_anesthesiology', '/wiki/Neurosurgical_anesthesia', '/wiki/Obstetric_anesthesiology', '/wiki/Neurosurgical_anesthesia', '/wiki/Aviation_medicine', '/wiki/Dermatology', '/wiki/Disaster_medicine', '/wiki/Diving_medicine', '/wiki/Emergency_medicine', '/wiki/Mass_gathering_medicine', '/wiki/Mass_gathering_medicine', '/wiki/Evolutionary_medicine', '/wiki/Family_medicine', '/wiki/General_practice', '/wiki/Hospital_medicine', '/wiki/Intensive_care_medicine', '/wiki/Medical_genetics', '/wiki/Narcology', '/wiki/Neurology', '/wiki/Clinical_neurophysiology', '/wiki/Clinical_neurophysiology', '/wiki/Occupational_medicine', '/wiki/Ophthalmology', '/wiki/Oral_medicine', '/wiki/Pain_management', '/wiki/Palliative_care', '/wiki/Pediatrics', '/wiki/Neonatology', '/wiki/Neonatology', '/wiki/Phlebologist', '/wiki/Physical_medicine_and_rehabilitation', '/wiki/Preventive_healthcare', '/wiki/Prison_healthcare', '/wiki/Psychiatry', '/wiki/Addiction_psychiatry', '/wiki/Addiction_psychiatry', '/wiki/Radiation_therapy', '/wiki/Reproductive_medicine', '/wiki/Sexual_medicine', '/wiki/Venereology', '/wiki/Venereology', '/wiki/Sleep_medicine', '/wiki/Sports_medicine', '/wiki/Organ_transplantation', '/wiki/Tropical_medicine', '/wiki/Travel_medicine', '/wiki/Travel_medicine', '/wiki/Obstetric_anesthesiology', '/wiki/Neurosurgical_anesthesia', '/wiki/Mass_gathering_medicine', '/wiki/Clinical_neurophysiology', '/wiki/Neonatology', '/wiki/Addiction_psychiatry', '/wiki/Venereology', '/wiki/Travel_medicine', '/wiki/Medical_school', '/wiki/Bachelor_of_Medicine,_Bachelor_of_Surgery', '/wiki/Bachelor_of_Medical_Sciences', '/wiki/Master_of_Medicine', '/wiki/Master_of_Surgery', '/wiki/Doctor_of_Medicine', '/wiki/Doctor_of_Osteopathic_Medicine', '/wiki/MD%E2%80%93PhD', '/wiki/Medical_Scientist_Training_Program', '/wiki/Medical_Scientist_Training_Program', '/wiki/Medical_Scientist_Training_Program', '/wiki/Allied_health_professions', '/wiki/Molecular_oncology', '/wiki/Nanomedicine', '/wiki/Personalized_medicine', '/wiki/Public_health', '/wiki/Rural_health', '/wiki/Therapy', '/wiki/Veterinary_medicine', '/wiki/Physician', '/wiki/Chief_physician', '/wiki/Chief_physician', '/wiki/History_of_medicine', '/wiki/Chief_physician', '/wiki/Category:Medicine', 'https://commons.wikimedia.org/wiki/Medicine', '/wiki/Wikipedia:WikiProject_Medicine', '/wiki/File:Symbol_portal_class.svg', '/wiki/Portal:Medicine', '/wiki/Outline_of_medicine']\n"
     ]
    }
   ],
   "source": [
    "print(links1)"
   ]
  },
  {
   "cell_type": "code",
   "execution_count": null,
   "id": "d9891d12",
   "metadata": {},
   "outputs": [],
   "source": [
    "article =[]\n",
    "start_div = soup.find('div', id='Diagnosis')\n",
    "end_div = soup.find('div', id='end')\n",
    "for idx, link in enumerate(links1):\n",
    "    if idx>=32 and idx<=237:\n",
    "        URL = f'https://en.wikipedia.org/{link}'\n",
    "        sub_r = requests.get(URL)\n",
    "        sub_soup = BeautifulSoup(sub_r.content, 'html5lib')\n",
    "\n",
    "        for div in sub_soup.find_all('div', class_='mw-content-ltr mw-parser-output'):\n",
    "            for h2 in div.find_all('h2'):\n",
    "                if h2.get_text(strip=True).lower() == 'diagnosis':\n",
    "                    next_p = h2.find_next('p')\n",
    "                    if next_p:\n",
    "                        article.append(next_p.get_text(strip=True))"
   ]
  },
  {
   "cell_type": "code",
   "execution_count": null,
   "id": "d5833810",
   "metadata": {},
   "outputs": [],
   "source": [
    "start_div = soup.find('div', id='start')\n",
    "end_div = soup.find('div', id='end')\n",
    "\n",
    "# Collect paragraphs between start and end\n",
    "paragraphs = []\n",
    "for elem in start_div.find_next_siblings():\n",
    "    if elem == end_div:\n",
    "        break\n",
    "    if elem.name == 'p':\n",
    "        paragraphs.append(elem.get_text(strip=True))\n",
    "\n",
    "# Print the collected paragraphs\n",
    "for p in paragraphs:\n",
    "    print(p)"
   ]
  },
  {
   "cell_type": "code",
   "execution_count": 37,
   "id": "b3f5e547",
   "metadata": {},
   "outputs": [
    {
     "name": "stdout",
     "output_type": "stream",
     "text": [
      "159\n"
     ]
    }
   ],
   "source": [
    "print(len(article))"
   ]
  },
  {
   "cell_type": "code",
   "execution_count": 38,
   "id": "c5957feb",
   "metadata": {},
   "outputs": [],
   "source": [
    "df1 = pd.DataFrame(article, columns= ['strings'])"
   ]
  },
  {
   "cell_type": "code",
   "execution_count": 39,
   "id": "007d369b",
   "metadata": {},
   "outputs": [],
   "source": [
    "df1.to_csv(\"webscraping2.csv\", index=False)\n"
   ]
  },
  {
   "cell_type": "code",
   "execution_count": 72,
   "id": "c2a1bb3c",
   "metadata": {},
   "outputs": [
    {
     "name": "stdout",
     "output_type": "stream",
     "text": [
      "                                              strings\n",
      "0    Medical condition.mw-parser-output .infobox-s...\n",
      "1    Medical condition.mw-parser-output .infobox-s...\n",
      "2    Medical condition.mw-parser-output .infobox-s...\n",
      "3    Medical condition.mw-parser-output .infobox-s...\n",
      "4    Medical condition.mw-parser-output .infobox-s...\n",
      "5    Medical condition.mw-parser-output .infobox-s...\n",
      "6    Medical condition.mw-parser-output .infobox-s...\n",
      "7    Medical condition.mw-parser-output .infobox-s...\n",
      "8    Medical condition.mw-parser-output .infobox-s...\n",
      "9    Medical condition.mw-parser-output .infobox-s...\n",
      "10   Medical condition.mw-parser-output .infobox-s...\n",
      "11   Medical condition.mw-parser-output .infobox-s...\n",
      "12   Medical condition.mw-parser-output .infobox-s...\n",
      "13   Medical condition.mw-parser-output .infobox-s...\n",
      "14   Medical condition.mw-parser-output .infobox-s...\n"
     ]
    }
   ],
   "source": [
    "print(df1)"
   ]
  }
 ],
 "metadata": {
  "kernelspec": {
   "display_name": "diagnosis",
   "language": "python",
   "name": "python3"
  },
  "language_info": {
   "codemirror_mode": {
    "name": "ipython",
    "version": 3
   },
   "file_extension": ".py",
   "mimetype": "text/x-python",
   "name": "python",
   "nbconvert_exporter": "python",
   "pygments_lexer": "ipython3",
   "version": "3.12.0"
  }
 },
 "nbformat": 4,
 "nbformat_minor": 5
}
